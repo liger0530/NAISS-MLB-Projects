{
 "cells": [
  {
   "cell_type": "code",
   "execution_count": 9,
   "metadata": {},
   "outputs": [],
   "source": [
    "from openai import OpenAI\n",
    "import numpy as np\n",
    "from sklearn.metrics.pairwise import cosine_similarity\n",
    "from langchain_openai import OpenAI as lc_OpenAI"
   ]
  },
  {
   "cell_type": "code",
   "execution_count": null,
   "metadata": {},
   "outputs": [],
   "source": [
    "client = OpenAI(api_key=API_KEY)"
   ]
  },
  {
   "cell_type": "code",
   "execution_count": 11,
   "metadata": {},
   "outputs": [],
   "source": [
    "with open('messi.txt', 'r', encoding='utf-8') as file:\n",
    "    messi_text = file.read()\n",
    "chunks = [messi_text[i:i + 50] for i in range(0, len(messi_text), 50)]"
   ]
  },
  {
   "cell_type": "code",
   "execution_count": 13,
   "metadata": {},
   "outputs": [],
   "source": [
    "embedded_chunks = []\n",
    "for chunk in chunks:\n",
    "    response = client.embeddings.create(\n",
    "        input=chunk,\n",
    "        model=\"text-embedding-3-small\"\n",
    "    )\n",
    "    embedded_chunks.append( (chunk, response.data[0].embedding) )"
   ]
  },
  {
   "cell_type": "code",
   "execution_count": 14,
   "metadata": {},
   "outputs": [],
   "source": [
    "def cosine_simularity(A, B):\n",
    "    return np.dot(A,B) / ( np.linalg.norm(A) * np.linalg.norm(B) )"
   ]
  },
  {
   "cell_type": "code",
   "execution_count": 15,
   "metadata": {},
   "outputs": [],
   "source": [
    "question = \"Who is Lionel Messi?\""
   ]
  },
  {
   "cell_type": "code",
   "execution_count": 17,
   "metadata": {},
   "outputs": [],
   "source": [
    "question_embedding = client.embeddings.create(\n",
    "        input=question,\n",
    "        model=\"text-embedding-3-small\"\n",
    "    ).data[0].embedding"
   ]
  },
  {
   "cell_type": "code",
   "execution_count": 18,
   "metadata": {},
   "outputs": [],
   "source": [
    "best_cosine_similarity = 0\n",
    "index = 0\n",
    "for i in range(len(embedded_chunks)):\n",
    "    similarity = cosine_simularity(question_embedding, embedded_chunks[i][1])\n",
    "    if similarity > best_cosine_similarity:\n",
    "        best_cosine_similarity = similarity\n",
    "        index = i"
   ]
  },
  {
   "cell_type": "code",
   "execution_count": 19,
   "metadata": {},
   "outputs": [
    {
     "name": "stdout",
     "output_type": "stream",
     "text": [
      "Relevant information: lso known as Leo Messi, is an Argentine profession\n"
     ]
    }
   ],
   "source": [
    "print(f\"Relevant information: {embedded_chunks[index][0]}\")\n",
    "\n",
    "completion = client.chat.completions.create(\n",
    "    model=\"gpt-4o\",\n",
    "    messages=[\n",
    "        {\"role\": \"system\", \"content\": \"You are a helpful assistant.\"},\n",
    "        {\n",
    "            \"role\": \"user\", \"content\": f\"User question: {question}. Potentially useful information: {embedded_chunks[index][0]}\"\n",
    "        }\n",
    "    ]\n",
    ")"
   ]
  },
  {
   "cell_type": "code",
   "execution_count": 20,
   "metadata": {},
   "outputs": [
    {
     "name": "stdout",
     "output_type": "stream",
     "text": [
      "Lionel Messi, also known as Leo Messi, is an Argentine professional footballer widely regarded as one of the greatest players in the history of the sport. He was born on June 24, 1987, in Rosario, Argentina. Messi is known for his incredible dribbling ability, vision, and goal-scoring prowess.\n",
      "\n",
      "Throughout his career, Messi has played primarily as a forward or attacking midfielder. He spent the majority of his professional career with FC Barcelona, where he became the club's all-time leading scorer and won numerous titles, including multiple UEFA Champions League and La Liga championships. In 2021, Messi transferred to Paris Saint-Germain (PSG).\n",
      "\n",
      "On the international stage, Messi has represented Argentina in multiple World Cups and Copa América tournaments. In 2021, he helped Argentina win the Copa América, which was his first major international title with the national team.\n",
      "\n",
      "In addition to his team success, Messi has received numerous individual awards, including multiple Ballon d'Or awards, which are given to the world's best football player each year.\n"
     ]
    }
   ],
   "source": [
    "print(completion.choices[0].message.content)"
   ]
  }
 ],
 "metadata": {
  "kernelspec": {
   "display_name": "Python 3",
   "language": "python",
   "name": "python3"
  },
  "language_info": {
   "codemirror_mode": {
    "name": "ipython",
    "version": 3
   },
   "file_extension": ".py",
   "mimetype": "text/x-python",
   "name": "python",
   "nbconvert_exporter": "python",
   "pygments_lexer": "ipython3",
   "version": "3.12.6"
  }
 },
 "nbformat": 4,
 "nbformat_minor": 2
}
